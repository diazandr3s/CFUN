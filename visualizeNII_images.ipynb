{
 "cells": [
  {
   "cell_type": "code",
   "execution_count": 22,
   "metadata": {},
   "outputs": [],
   "source": [
    "from nilearn import plotting # Machine learning for Neuro-Imaging in Python\n",
    "import nibabel as nib\n",
    "import matplotlib.pyplot as plt"
   ]
  },
  {
   "cell_type": "code",
   "execution_count": 8,
   "metadata": {},
   "outputs": [
    {
     "data": {
      "text/plain": [
       "(512, 512, 224)"
      ]
     },
     "execution_count": 8,
     "metadata": {},
     "output_type": "execute_result"
    }
   ],
   "source": [
    "# Loading the image\n",
    "epi_img = nib.load('./results/st_2001_image.nii')\n",
    "# Getting the data\n",
    "epi_img_data = epi_img.get_fdata()\n",
    "# Data size\n",
    "epi_img_data.shape"
   ]
  },
  {
   "cell_type": "code",
   "execution_count": 9,
   "metadata": {},
   "outputs": [],
   "source": [
    "# Function to show slices\n",
    "def show_slices(slices):\n",
    "    \"\"\" Function to display row of image slices \"\"\"\n",
    "    fig, axes = plt.subplots(1, len(slices))\n",
    "    for i, slice in enumerate(slices):\n",
    "        axes[i].imshow(slice.T, cmap=\"gray\", origin=\"lower\")"
   ]
  },
  {
   "cell_type": "code",
   "execution_count": 10,
   "metadata": {},
   "outputs": [
    {
     "data": {
      "image/png": "[encoded data removed]",
      "text/plain": [
       "<matplotlib.figure.Figure at 0x7fa73235b588>"
      ]
     },
     "metadata": {},
     "output_type": "display_data"
    }
   ],
   "source": [
    "# Plotting 3 views\n",
    "slice_0 = epi_img_data[260, :, :]\n",
    "slice_1 = epi_img_data[:, 300, :]\n",
    "slice_2 = epi_img_data[:, :, 160]\n",
    "show_slices([slice_0, slice_1, slice_2])"
   ]
  },
  {
   "cell_type": "code",
   "execution_count": 11,
   "metadata": {},
   "outputs": [
    {
     "data": {
      "text/plain": [
       "Text(0.5,1,'Mask')"
      ]
     },
     "execution_count": 11,
     "metadata": {},
     "output_type": "execute_result"
    },
    {
     "data": {
      "image/png": "[encoded data removed]",
      "text/plain": [
       "<matplotlib.figure.Figure at 0x7fa7322c1048>"
      ]
     },
     "metadata": {},
     "output_type": "display_data"
    }
   ],
   "source": [
    "test_image = nib.load('./results/st_2002_image.nii').get_data()\n",
    "test_mask = nib.load('./results/st_2005_image.nii').get_data()\n",
    "fig, (ax1, ax2) = plt.subplots(1,2, figsize = (12, 6))\n",
    "ax1.imshow(test_image[test_image.shape[0]//2])\n",
    "ax1.set_title('Image')\n",
    "ax2.imshow(test_mask[test_image.shape[0]//2])\n",
    "ax2.set_title('Mask')"
   ]
  },
  {
   "cell_type": "code",
   "execution_count": 12,
   "metadata": {},
   "outputs": [
    {
     "name": "stdout",
     "output_type": "stream",
     "text": [
      "(512, 512, 200)\n"
     ]
    },
    {
     "data": {
      "text/plain": [
       "Text(0.5,1,'Image2')"
      ]
     },
     "execution_count": 12,
     "metadata": {},
     "output_type": "execute_result"
    },
    {
     "data": {
      "image/png": "[encoded data removed]",
      "text/plain": [
       "<matplotlib.figure.Figure at 0x7fa73231c4a8>"
      ]
     },
     "metadata": {},
     "output_type": "display_data"
    }
   ],
   "source": [
    "image_example = nib.load('./results/st_2005_image.nii').get_data()\n",
    "fig, (ax1, ax2) = plt.subplots(1,2, figsize = (12, 6))\n",
    "print(test_image.shape)\n",
    "ax1.imshow(image_example[300])\n",
    "ax1.set_title('Image')\n",
    "ax2.imshow(image_example[400])\n",
    "ax2.set_title('Image2')"
   ]
  },
  {
   "cell_type": "code",
   "execution_count": null,
   "metadata": {},
   "outputs": [],
   "source": []
  }
 ],
 "metadata": {
  "kernelspec": {
   "display_name": "Python (envCFUN)",
   "language": "python",
   "name": "envcfun"
  },
  "language_info": {
   "codemirror_mode": {
    "name": "ipython",
    "version": 3
   },
   "file_extension": ".py",
   "mimetype": "text/x-python",
   "name": "python",
   "nbconvert_exporter": "python",
   "pygments_lexer": "ipython3",
   "version": "3.6.1"
  }
 },
 "nbformat": 4,
 "nbformat_minor": 2
}
